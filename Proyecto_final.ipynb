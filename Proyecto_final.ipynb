{
  "nbformat": 4,
  "nbformat_minor": 0,
  "metadata": {
    "colab": {
      "provenance": []
    },
    "kernelspec": {
      "name": "python3",
      "display_name": "Python 3"
    },
    "language_info": {
      "name": "python"
    }
  },
  "cells": [
    {
      "cell_type": "markdown",
      "source": [
        "# **Trabajo final**\n"
      ],
      "metadata": {
        "id": "NVIn2ldB5jfL"
      }
    },
    {
      "cell_type": "markdown",
      "source": [
        "Este notebook se utilizará para el proyecto final"
      ],
      "metadata": {
        "id": "m9KzU2W459K7"
      }
    },
    {
      "cell_type": "code",
      "source": [
        "import pandas as pd\n",
        "import numpy as np\n"
      ],
      "metadata": {
        "id": "FuDfv7gq57pU"
      },
      "execution_count": null,
      "outputs": []
    },
    {
      "cell_type": "code",
      "execution_count": null,
      "metadata": {
        "colab": {
          "base_uri": "https://localhost:8080/"
        },
        "id": "1wGctAy95PQq",
        "outputId": "51c61e76-e5b4-4f51-f7de-879cdddf44b3"
      },
      "outputs": [
        {
          "output_type": "stream",
          "name": "stdout",
          "text": [
            "!Hola, Proyecto Final del Curso!\n"
          ]
        }
      ],
      "source": [
        "print(\"!Hola, Proyecto Final del Curso!\")"
      ]
    }
  ]
}